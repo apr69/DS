{
 "cells": [
  {
   "cell_type": "markdown",
   "id": "ccba6f27",
   "metadata": {},
   "source": [
    "### Importing Libraries"
   ]
  },
  {
   "cell_type": "code",
   "execution_count": 1,
   "id": "df0074bc",
   "metadata": {},
   "outputs": [],
   "source": [
    "import numpy as np\n",
    "import pandas as pd\n",
    "import matplotlib.pyplot as plt\n",
    "import seaborn as sns\n",
    "import warnings\n",
    "warnings.filterwarnings(\"ignore\") #Never display warnings which match"
   ]
  },
  {
   "cell_type": "code",
   "execution_count": 2,
   "id": "688ce50a",
   "metadata": {},
   "outputs": [],
   "source": [
    "#Setting random seed & creating Faker Instance\n",
    "np.random.seed(42)"
   ]
  },
  {
   "cell_type": "markdown",
   "id": "5191ccfd",
   "metadata": {},
   "source": [
    "### Creating The Dataset Of Student Academic Performance"
   ]
  },
  {
   "cell_type": "code",
   "execution_count": 3,
   "id": "21d882cc",
   "metadata": {},
   "outputs": [],
   "source": [
    "num_students = 75\n",
    "students_data = {'Student_ID': np.arange(1,num_students+1),\n",
    "                 'Name': ['Student_' + str(i) for i in range(1, num_students+1)]\n",
    "                }\n",
    "\n",
    "Scores_data = {'Student_ID': np.arange(1, num_students + 1),\n",
    "               'DS_Score': np.random.randint(0, 100, size=num_students),\n",
    "               'AI_Score': np.random.randint(0, 100, size=num_students),\n",
    "               'CC_Score': np.random.randint(0, 100, size=num_students),\n",
    "               'CS_Score': np.random.randint(0, 100, size=num_students),\n",
    "                }\n",
    "\n",
    "df = pd.DataFrame(students_data).merge(pd.DataFrame(Scores_data), on='Student_ID')"
   ]
  },
  {
   "cell_type": "code",
   "execution_count": 4,
   "id": "116fec00",
   "metadata": {},
   "outputs": [],
   "source": [
    "#Adding Null Values\n",
    "subjects = ['DS_Score', 'AI_Score', 'CC_Score', 'CS_Score']\n",
    "for subject in subjects:\n",
    "    df.loc[df.sample(frac=0.1).index, subject] = np.nan  "
   ]
  },
  {
   "cell_type": "code",
   "execution_count": 5,
   "id": "23fdb3ed",
   "metadata": {},
   "outputs": [],
   "source": [
    "#Adding Outliers\n",
    "outlier_fraction = 0.1  \n",
    "outliers_indices = df.sample(frac=outlier_fraction).index\n",
    "for subject in ['DS_Score', 'AI_Score', 'CC_Score', 'CS_Score']:\n",
    "    df.loc[outliers_indices, subject] = np.random.randint(150, 200, size=len(outliers_indices))"
   ]
  },
  {
   "cell_type": "code",
   "execution_count": 6,
   "id": "e2e8d2f0",
   "metadata": {},
   "outputs": [
    {
     "data": {
      "text/html": [
       "<div>\n",
       "<style scoped>\n",
       "    .dataframe tbody tr th:only-of-type {\n",
       "        vertical-align: middle;\n",
       "    }\n",
       "\n",
       "    .dataframe tbody tr th {\n",
       "        vertical-align: top;\n",
       "    }\n",
       "\n",
       "    .dataframe thead th {\n",
       "        text-align: right;\n",
       "    }\n",
       "</style>\n",
       "<table border=\"1\" class=\"dataframe\">\n",
       "  <thead>\n",
       "    <tr style=\"text-align: right;\">\n",
       "      <th></th>\n",
       "      <th>Student_ID</th>\n",
       "      <th>Name</th>\n",
       "      <th>DS_Score</th>\n",
       "      <th>AI_Score</th>\n",
       "      <th>CC_Score</th>\n",
       "      <th>CS_Score</th>\n",
       "    </tr>\n",
       "  </thead>\n",
       "  <tbody>\n",
       "    <tr>\n",
       "      <th>0</th>\n",
       "      <td>1</td>\n",
       "      <td>Student_1</td>\n",
       "      <td>51.0</td>\n",
       "      <td>3.0</td>\n",
       "      <td>26.0</td>\n",
       "      <td>91.0</td>\n",
       "    </tr>\n",
       "    <tr>\n",
       "      <th>1</th>\n",
       "      <td>2</td>\n",
       "      <td>Student_2</td>\n",
       "      <td>NaN</td>\n",
       "      <td>53.0</td>\n",
       "      <td>8.0</td>\n",
       "      <td>53.0</td>\n",
       "    </tr>\n",
       "    <tr>\n",
       "      <th>2</th>\n",
       "      <td>3</td>\n",
       "      <td>Student_3</td>\n",
       "      <td>14.0</td>\n",
       "      <td>NaN</td>\n",
       "      <td>78.0</td>\n",
       "      <td>86.0</td>\n",
       "    </tr>\n",
       "    <tr>\n",
       "      <th>3</th>\n",
       "      <td>4</td>\n",
       "      <td>Student_4</td>\n",
       "      <td>71.0</td>\n",
       "      <td>62.0</td>\n",
       "      <td>14.0</td>\n",
       "      <td>95.0</td>\n",
       "    </tr>\n",
       "    <tr>\n",
       "      <th>4</th>\n",
       "      <td>5</td>\n",
       "      <td>Student_5</td>\n",
       "      <td>60.0</td>\n",
       "      <td>17.0</td>\n",
       "      <td>89.0</td>\n",
       "      <td>96.0</td>\n",
       "    </tr>\n",
       "    <tr>\n",
       "      <th>...</th>\n",
       "      <td>...</td>\n",
       "      <td>...</td>\n",
       "      <td>...</td>\n",
       "      <td>...</td>\n",
       "      <td>...</td>\n",
       "      <td>...</td>\n",
       "    </tr>\n",
       "    <tr>\n",
       "      <th>70</th>\n",
       "      <td>71</td>\n",
       "      <td>Student_71</td>\n",
       "      <td>181.0</td>\n",
       "      <td>185.0</td>\n",
       "      <td>163.0</td>\n",
       "      <td>161.0</td>\n",
       "    </tr>\n",
       "    <tr>\n",
       "      <th>71</th>\n",
       "      <td>72</td>\n",
       "      <td>Student_72</td>\n",
       "      <td>3.0</td>\n",
       "      <td>NaN</td>\n",
       "      <td>80.0</td>\n",
       "      <td>8.0</td>\n",
       "    </tr>\n",
       "    <tr>\n",
       "      <th>72</th>\n",
       "      <td>73</td>\n",
       "      <td>Student_73</td>\n",
       "      <td>1.0</td>\n",
       "      <td>4.0</td>\n",
       "      <td>58.0</td>\n",
       "      <td>98.0</td>\n",
       "    </tr>\n",
       "    <tr>\n",
       "      <th>73</th>\n",
       "      <td>74</td>\n",
       "      <td>Student_74</td>\n",
       "      <td>5.0</td>\n",
       "      <td>89.0</td>\n",
       "      <td>1.0</td>\n",
       "      <td>18.0</td>\n",
       "    </tr>\n",
       "    <tr>\n",
       "      <th>74</th>\n",
       "      <td>75</td>\n",
       "      <td>Student_75</td>\n",
       "      <td>53.0</td>\n",
       "      <td>13.0</td>\n",
       "      <td>1.0</td>\n",
       "      <td>47.0</td>\n",
       "    </tr>\n",
       "  </tbody>\n",
       "</table>\n",
       "<p>75 rows × 6 columns</p>\n",
       "</div>"
      ],
      "text/plain": [
       "    Student_ID        Name  DS_Score  AI_Score  CC_Score  CS_Score\n",
       "0            1   Student_1      51.0       3.0      26.0      91.0\n",
       "1            2   Student_2       NaN      53.0       8.0      53.0\n",
       "2            3   Student_3      14.0       NaN      78.0      86.0\n",
       "3            4   Student_4      71.0      62.0      14.0      95.0\n",
       "4            5   Student_5      60.0      17.0      89.0      96.0\n",
       "..         ...         ...       ...       ...       ...       ...\n",
       "70          71  Student_71     181.0     185.0     163.0     161.0\n",
       "71          72  Student_72       3.0       NaN      80.0       8.0\n",
       "72          73  Student_73       1.0       4.0      58.0      98.0\n",
       "73          74  Student_74       5.0      89.0       1.0      18.0\n",
       "74          75  Student_75      53.0      13.0       1.0      47.0\n",
       "\n",
       "[75 rows x 6 columns]"
      ]
     },
     "execution_count": 6,
     "metadata": {},
     "output_type": "execute_result"
    }
   ],
   "source": [
    "#Final Dataset is ready...........!!!!\n",
    "df"
   ]
  },
  {
   "cell_type": "markdown",
   "id": "94fa8716",
   "metadata": {},
   "source": [
    "### Understanding The Dataset"
   ]
  },
  {
   "cell_type": "code",
   "execution_count": 7,
   "id": "3cb4a33d",
   "metadata": {},
   "outputs": [
    {
     "data": {
      "text/plain": [
       "(75, 6)"
      ]
     },
     "execution_count": 7,
     "metadata": {},
     "output_type": "execute_result"
    }
   ],
   "source": [
    "df.shape"
   ]
  },
  {
   "cell_type": "code",
   "execution_count": 8,
   "id": "f9c18584",
   "metadata": {},
   "outputs": [
    {
     "data": {
      "text/plain": [
       "Index(['Student_ID', 'Name', 'DS_Score', 'AI_Score', 'CC_Score', 'CS_Score'], dtype='object')"
      ]
     },
     "execution_count": 8,
     "metadata": {},
     "output_type": "execute_result"
    }
   ],
   "source": [
    "df.columns"
   ]
  },
  {
   "cell_type": "code",
   "execution_count": 9,
   "id": "56a09941",
   "metadata": {},
   "outputs": [
    {
     "data": {
      "text/html": [
       "<div>\n",
       "<style scoped>\n",
       "    .dataframe tbody tr th:only-of-type {\n",
       "        vertical-align: middle;\n",
       "    }\n",
       "\n",
       "    .dataframe tbody tr th {\n",
       "        vertical-align: top;\n",
       "    }\n",
       "\n",
       "    .dataframe thead th {\n",
       "        text-align: right;\n",
       "    }\n",
       "</style>\n",
       "<table border=\"1\" class=\"dataframe\">\n",
       "  <thead>\n",
       "    <tr style=\"text-align: right;\">\n",
       "      <th></th>\n",
       "      <th>Student_ID</th>\n",
       "      <th>DS_Score</th>\n",
       "      <th>AI_Score</th>\n",
       "      <th>CC_Score</th>\n",
       "      <th>CS_Score</th>\n",
       "    </tr>\n",
       "  </thead>\n",
       "  <tbody>\n",
       "    <tr>\n",
       "      <th>count</th>\n",
       "      <td>75.000000</td>\n",
       "      <td>68.000000</td>\n",
       "      <td>68.000000</td>\n",
       "      <td>68.000000</td>\n",
       "      <td>69.000000</td>\n",
       "    </tr>\n",
       "    <tr>\n",
       "      <th>mean</th>\n",
       "      <td>38.000000</td>\n",
       "      <td>62.514706</td>\n",
       "      <td>63.397059</td>\n",
       "      <td>63.205882</td>\n",
       "      <td>64.927536</td>\n",
       "    </tr>\n",
       "    <tr>\n",
       "      <th>std</th>\n",
       "      <td>21.794495</td>\n",
       "      <td>51.793359</td>\n",
       "      <td>51.041435</td>\n",
       "      <td>51.924905</td>\n",
       "      <td>45.804353</td>\n",
       "    </tr>\n",
       "    <tr>\n",
       "      <th>min</th>\n",
       "      <td>1.000000</td>\n",
       "      <td>1.000000</td>\n",
       "      <td>0.000000</td>\n",
       "      <td>0.000000</td>\n",
       "      <td>0.000000</td>\n",
       "    </tr>\n",
       "    <tr>\n",
       "      <th>25%</th>\n",
       "      <td>19.500000</td>\n",
       "      <td>27.500000</td>\n",
       "      <td>26.500000</td>\n",
       "      <td>26.000000</td>\n",
       "      <td>31.000000</td>\n",
       "    </tr>\n",
       "    <tr>\n",
       "      <th>50%</th>\n",
       "      <td>38.000000</td>\n",
       "      <td>55.500000</td>\n",
       "      <td>56.000000</td>\n",
       "      <td>58.000000</td>\n",
       "      <td>58.000000</td>\n",
       "    </tr>\n",
       "    <tr>\n",
       "      <th>75%</th>\n",
       "      <td>56.500000</td>\n",
       "      <td>77.500000</td>\n",
       "      <td>85.250000</td>\n",
       "      <td>85.500000</td>\n",
       "      <td>89.000000</td>\n",
       "    </tr>\n",
       "    <tr>\n",
       "      <th>max</th>\n",
       "      <td>75.000000</td>\n",
       "      <td>198.000000</td>\n",
       "      <td>196.000000</td>\n",
       "      <td>198.000000</td>\n",
       "      <td>180.000000</td>\n",
       "    </tr>\n",
       "  </tbody>\n",
       "</table>\n",
       "</div>"
      ],
      "text/plain": [
       "       Student_ID    DS_Score    AI_Score    CC_Score    CS_Score\n",
       "count   75.000000   68.000000   68.000000   68.000000   69.000000\n",
       "mean    38.000000   62.514706   63.397059   63.205882   64.927536\n",
       "std     21.794495   51.793359   51.041435   51.924905   45.804353\n",
       "min      1.000000    1.000000    0.000000    0.000000    0.000000\n",
       "25%     19.500000   27.500000   26.500000   26.000000   31.000000\n",
       "50%     38.000000   55.500000   56.000000   58.000000   58.000000\n",
       "75%     56.500000   77.500000   85.250000   85.500000   89.000000\n",
       "max     75.000000  198.000000  196.000000  198.000000  180.000000"
      ]
     },
     "execution_count": 9,
     "metadata": {},
     "output_type": "execute_result"
    }
   ],
   "source": [
    "df.describe()"
   ]
  },
  {
   "cell_type": "code",
   "execution_count": 10,
   "id": "1a73613d",
   "metadata": {},
   "outputs": [
    {
     "name": "stdout",
     "output_type": "stream",
     "text": [
      "<class 'pandas.core.frame.DataFrame'>\n",
      "RangeIndex: 75 entries, 0 to 74\n",
      "Data columns (total 6 columns):\n",
      " #   Column      Non-Null Count  Dtype  \n",
      "---  ------      --------------  -----  \n",
      " 0   Student_ID  75 non-null     int32  \n",
      " 1   Name        75 non-null     object \n",
      " 2   DS_Score    68 non-null     float64\n",
      " 3   AI_Score    68 non-null     float64\n",
      " 4   CC_Score    68 non-null     float64\n",
      " 5   CS_Score    69 non-null     float64\n",
      "dtypes: float64(4), int32(1), object(1)\n",
      "memory usage: 3.4+ KB\n"
     ]
    }
   ],
   "source": [
    "df.info()"
   ]
  },
  {
   "cell_type": "markdown",
   "id": "3d77ae6d",
   "metadata": {},
   "source": [
    "### Checking for Null / Missing Values"
   ]
  },
  {
   "cell_type": "code",
   "execution_count": 11,
   "id": "984a0082",
   "metadata": {},
   "outputs": [
    {
     "data": {
      "text/plain": [
       "Student_ID    0\n",
       "Name          0\n",
       "DS_Score      7\n",
       "AI_Score      7\n",
       "CC_Score      7\n",
       "CS_Score      6\n",
       "dtype: int64"
      ]
     },
     "execution_count": 11,
     "metadata": {},
     "output_type": "execute_result"
    }
   ],
   "source": [
    "df.isnull().sum()"
   ]
  },
  {
   "cell_type": "code",
   "execution_count": 13,
   "id": "13737869",
   "metadata": {},
   "outputs": [],
   "source": [
    "#Handling Missing Values\n",
    "df['DS_Score'].fillna(df['DS_Score'].mean(), inplace=True)\n",
    "df['AI_Score'].fillna(df['AI_Score'].mean(), inplace=True)\n",
    "df['CC_Score'].fillna(df['CC_Score'].mean(), inplace=True)\n",
    "df['CS_Score'].fillna(df['CS_Score'].mean(), inplace=True)"
   ]
  },
  {
   "cell_type": "code",
   "execution_count": 14,
   "id": "a8d2f643",
   "metadata": {
    "scrolled": true
   },
   "outputs": [
    {
     "data": {
      "text/plain": [
       "Student_ID    0\n",
       "Name          0\n",
       "DS_Score      0\n",
       "AI_Score      0\n",
       "CC_Score      0\n",
       "CS_Score      0\n",
       "dtype: int64"
      ]
     },
     "execution_count": 14,
     "metadata": {},
     "output_type": "execute_result"
    }
   ],
   "source": [
    "df.isnull().sum()"
   ]
  },
  {
   "cell_type": "markdown",
   "id": "36112db8",
   "metadata": {},
   "source": [
    "### Checking For Outliers"
   ]
  },
  {
   "cell_type": "code",
   "execution_count": 15,
   "id": "dd858486",
   "metadata": {},
   "outputs": [
    {
     "data": {
      "image/png": "[encoded data removed]",
      "text/plain": [
       "<Figure size 2000x1000 with 1 Axes>"
      ]
     },
     "metadata": {},
     "output_type": "display_data"
    }
   ],
   "source": [
    "plt.figure(figsize=(20, 10))\n",
    "sns.boxplot(data=df[['DS_Score', 'AI_Score', 'CC_Score', 'CS_Score']])\n",
    "plt.title('Boxplot for Subjects')\n",
    "plt.show()"
   ]
  },
  {
   "cell_type": "code",
   "execution_count": 16,
   "id": "e9779374",
   "metadata": {},
   "outputs": [
    {
     "name": "stdout",
     "output_type": "stream",
     "text": [
      "Sum of outliers in each column:\n",
      "Student_ID    0\n",
      "DS_Score      8\n",
      "AI_Score      8\n",
      "CC_Score      7\n",
      "CS_Score      2\n",
      "dtype: int64\n"
     ]
    }
   ],
   "source": [
    "#Finding total outliers in all columns\n",
    "\n",
    "def find_outliers(column):\n",
    "    Q1 = column.quantile(0.25)\n",
    "    Q3 = column.quantile(0.75)\n",
    "    IQR = Q3 - Q1\n",
    "    lower_bound = Q1 - 1.5 * IQR\n",
    "    upper_bound = Q3 + 1.5 * IQR\n",
    "    outliers = (column < lower_bound) | (column > upper_bound)\n",
    "    return outliers\n",
    "\n",
    "outliers_df = df.select_dtypes(include=np.number).apply(find_outliers)\n",
    "sum_of_outliers = outliers_df.sum()\n",
    "print(\"Sum of outliers in each column:\")\n",
    "print(sum_of_outliers)"
   ]
  },
  {
   "cell_type": "code",
   "execution_count": 17,
   "id": "cda9af8a",
   "metadata": {},
   "outputs": [
    {
     "data": {
      "text/plain": [
       "(75, 6)"
      ]
     },
     "execution_count": 17,
     "metadata": {},
     "output_type": "execute_result"
    }
   ],
   "source": [
    "#Old Shape of Dataset\n",
    "df.shape"
   ]
  },
  {
   "cell_type": "code",
   "execution_count": 18,
   "id": "24823853",
   "metadata": {},
   "outputs": [],
   "source": [
    "#Removing Outliers\n",
    "df = df.loc[~outliers_df.any(axis=1)]"
   ]
  },
  {
   "cell_type": "code",
   "execution_count": 19,
   "id": "acefd380",
   "metadata": {},
   "outputs": [
    {
     "data": {
      "text/plain": [
       "(67, 6)"
      ]
     },
     "execution_count": 19,
     "metadata": {},
     "output_type": "execute_result"
    }
   ],
   "source": [
    "#New Shape of Dataset\n",
    "df.shape"
   ]
  },
  {
   "cell_type": "code",
   "execution_count": 20,
   "id": "12f917d2",
   "metadata": {},
   "outputs": [
    {
     "data": {
      "text/html": [
       "<div>\n",
       "<style scoped>\n",
       "    .dataframe tbody tr th:only-of-type {\n",
       "        vertical-align: middle;\n",
       "    }\n",
       "\n",
       "    .dataframe tbody tr th {\n",
       "        vertical-align: top;\n",
       "    }\n",
       "\n",
       "    .dataframe thead th {\n",
       "        text-align: right;\n",
       "    }\n",
       "</style>\n",
       "<table border=\"1\" class=\"dataframe\">\n",
       "  <thead>\n",
       "    <tr style=\"text-align: right;\">\n",
       "      <th></th>\n",
       "      <th>Student_ID</th>\n",
       "      <th>Name</th>\n",
       "      <th>DS_Score</th>\n",
       "      <th>AI_Score</th>\n",
       "      <th>CC_Score</th>\n",
       "      <th>CS_Score</th>\n",
       "    </tr>\n",
       "  </thead>\n",
       "  <tbody>\n",
       "    <tr>\n",
       "      <th>0</th>\n",
       "      <td>1</td>\n",
       "      <td>Student_1</td>\n",
       "      <td>51.000000</td>\n",
       "      <td>3.000000</td>\n",
       "      <td>26.0</td>\n",
       "      <td>91.0</td>\n",
       "    </tr>\n",
       "    <tr>\n",
       "      <th>1</th>\n",
       "      <td>2</td>\n",
       "      <td>Student_2</td>\n",
       "      <td>62.514706</td>\n",
       "      <td>53.000000</td>\n",
       "      <td>8.0</td>\n",
       "      <td>53.0</td>\n",
       "    </tr>\n",
       "    <tr>\n",
       "      <th>2</th>\n",
       "      <td>3</td>\n",
       "      <td>Student_3</td>\n",
       "      <td>14.000000</td>\n",
       "      <td>63.397059</td>\n",
       "      <td>78.0</td>\n",
       "      <td>86.0</td>\n",
       "    </tr>\n",
       "    <tr>\n",
       "      <th>3</th>\n",
       "      <td>4</td>\n",
       "      <td>Student_4</td>\n",
       "      <td>71.000000</td>\n",
       "      <td>62.000000</td>\n",
       "      <td>14.0</td>\n",
       "      <td>95.0</td>\n",
       "    </tr>\n",
       "    <tr>\n",
       "      <th>4</th>\n",
       "      <td>5</td>\n",
       "      <td>Student_5</td>\n",
       "      <td>60.000000</td>\n",
       "      <td>17.000000</td>\n",
       "      <td>89.0</td>\n",
       "      <td>96.0</td>\n",
       "    </tr>\n",
       "    <tr>\n",
       "      <th>...</th>\n",
       "      <td>...</td>\n",
       "      <td>...</td>\n",
       "      <td>...</td>\n",
       "      <td>...</td>\n",
       "      <td>...</td>\n",
       "      <td>...</td>\n",
       "    </tr>\n",
       "    <tr>\n",
       "      <th>69</th>\n",
       "      <td>70</td>\n",
       "      <td>Student_70</td>\n",
       "      <td>35.000000</td>\n",
       "      <td>77.000000</td>\n",
       "      <td>2.0</td>\n",
       "      <td>36.0</td>\n",
       "    </tr>\n",
       "    <tr>\n",
       "      <th>71</th>\n",
       "      <td>72</td>\n",
       "      <td>Student_72</td>\n",
       "      <td>3.000000</td>\n",
       "      <td>63.397059</td>\n",
       "      <td>80.0</td>\n",
       "      <td>8.0</td>\n",
       "    </tr>\n",
       "    <tr>\n",
       "      <th>72</th>\n",
       "      <td>73</td>\n",
       "      <td>Student_73</td>\n",
       "      <td>1.000000</td>\n",
       "      <td>4.000000</td>\n",
       "      <td>58.0</td>\n",
       "      <td>98.0</td>\n",
       "    </tr>\n",
       "    <tr>\n",
       "      <th>73</th>\n",
       "      <td>74</td>\n",
       "      <td>Student_74</td>\n",
       "      <td>5.000000</td>\n",
       "      <td>89.000000</td>\n",
       "      <td>1.0</td>\n",
       "      <td>18.0</td>\n",
       "    </tr>\n",
       "    <tr>\n",
       "      <th>74</th>\n",
       "      <td>75</td>\n",
       "      <td>Student_75</td>\n",
       "      <td>53.000000</td>\n",
       "      <td>13.000000</td>\n",
       "      <td>1.0</td>\n",
       "      <td>47.0</td>\n",
       "    </tr>\n",
       "  </tbody>\n",
       "</table>\n",
       "<p>67 rows × 6 columns</p>\n",
       "</div>"
      ],
      "text/plain": [
       "    Student_ID        Name   DS_Score   AI_Score  CC_Score  CS_Score\n",
       "0            1   Student_1  51.000000   3.000000      26.0      91.0\n",
       "1            2   Student_2  62.514706  53.000000       8.0      53.0\n",
       "2            3   Student_3  14.000000  63.397059      78.0      86.0\n",
       "3            4   Student_4  71.000000  62.000000      14.0      95.0\n",
       "4            5   Student_5  60.000000  17.000000      89.0      96.0\n",
       "..         ...         ...        ...        ...       ...       ...\n",
       "69          70  Student_70  35.000000  77.000000       2.0      36.0\n",
       "71          72  Student_72   3.000000  63.397059      80.0       8.0\n",
       "72          73  Student_73   1.000000   4.000000      58.0      98.0\n",
       "73          74  Student_74   5.000000  89.000000       1.0      18.0\n",
       "74          75  Student_75  53.000000  13.000000       1.0      47.0\n",
       "\n",
       "[67 rows x 6 columns]"
      ]
     },
     "execution_count": 20,
     "metadata": {},
     "output_type": "execute_result"
    }
   ],
   "source": [
    "df"
   ]
  },
  {
   "cell_type": "markdown",
   "id": "7bb23490",
   "metadata": {},
   "source": [
    "### Data Transformation"
   ]
  },
  {
   "cell_type": "code",
   "execution_count": 21,
   "id": "a89a0add",
   "metadata": {},
   "outputs": [],
   "source": [
    "#Changing datatype of float columns to round off integer type\n",
    "float_columns = ['DS_Score', 'AI_Score', 'CC_Score', 'CS_Score']\n",
    "df[float_columns] = df[float_columns].round().astype(int)"
   ]
  },
  {
   "cell_type": "code",
   "execution_count": 22,
   "id": "9985b894",
   "metadata": {},
   "outputs": [],
   "source": [
    "#Adding extra Column\n",
    "total_marks = 400  # Setting the total marks for 4 subjects\n",
    "df['Total'] = df[['DS_Score', 'AI_Score', 'CC_Score', 'CS_Score']].sum(axis=1)"
   ]
  },
  {
   "cell_type": "code",
   "execution_count": 23,
   "id": "27625c3c",
   "metadata": {},
   "outputs": [
    {
     "data": {
      "text/html": [
       "<div>\n",
       "<style scoped>\n",
       "    .dataframe tbody tr th:only-of-type {\n",
       "        vertical-align: middle;\n",
       "    }\n",
       "\n",
       "    .dataframe tbody tr th {\n",
       "        vertical-align: top;\n",
       "    }\n",
       "\n",
       "    .dataframe thead th {\n",
       "        text-align: right;\n",
       "    }\n",
       "</style>\n",
       "<table border=\"1\" class=\"dataframe\">\n",
       "  <thead>\n",
       "    <tr style=\"text-align: right;\">\n",
       "      <th></th>\n",
       "      <th>Student_ID</th>\n",
       "      <th>Name</th>\n",
       "      <th>DS_Score</th>\n",
       "      <th>AI_Score</th>\n",
       "      <th>CC_Score</th>\n",
       "      <th>CS_Score</th>\n",
       "      <th>Total</th>\n",
       "    </tr>\n",
       "  </thead>\n",
       "  <tbody>\n",
       "    <tr>\n",
       "      <th>0</th>\n",
       "      <td>1</td>\n",
       "      <td>Student_1</td>\n",
       "      <td>51</td>\n",
       "      <td>3</td>\n",
       "      <td>26</td>\n",
       "      <td>91</td>\n",
       "      <td>171</td>\n",
       "    </tr>\n",
       "    <tr>\n",
       "      <th>1</th>\n",
       "      <td>2</td>\n",
       "      <td>Student_2</td>\n",
       "      <td>63</td>\n",
       "      <td>53</td>\n",
       "      <td>8</td>\n",
       "      <td>53</td>\n",
       "      <td>177</td>\n",
       "    </tr>\n",
       "    <tr>\n",
       "      <th>2</th>\n",
       "      <td>3</td>\n",
       "      <td>Student_3</td>\n",
       "      <td>14</td>\n",
       "      <td>63</td>\n",
       "      <td>78</td>\n",
       "      <td>86</td>\n",
       "      <td>241</td>\n",
       "    </tr>\n",
       "    <tr>\n",
       "      <th>3</th>\n",
       "      <td>4</td>\n",
       "      <td>Student_4</td>\n",
       "      <td>71</td>\n",
       "      <td>62</td>\n",
       "      <td>14</td>\n",
       "      <td>95</td>\n",
       "      <td>242</td>\n",
       "    </tr>\n",
       "    <tr>\n",
       "      <th>4</th>\n",
       "      <td>5</td>\n",
       "      <td>Student_5</td>\n",
       "      <td>60</td>\n",
       "      <td>17</td>\n",
       "      <td>89</td>\n",
       "      <td>96</td>\n",
       "      <td>262</td>\n",
       "    </tr>\n",
       "    <tr>\n",
       "      <th>...</th>\n",
       "      <td>...</td>\n",
       "      <td>...</td>\n",
       "      <td>...</td>\n",
       "      <td>...</td>\n",
       "      <td>...</td>\n",
       "      <td>...</td>\n",
       "      <td>...</td>\n",
       "    </tr>\n",
       "    <tr>\n",
       "      <th>69</th>\n",
       "      <td>70</td>\n",
       "      <td>Student_70</td>\n",
       "      <td>35</td>\n",
       "      <td>77</td>\n",
       "      <td>2</td>\n",
       "      <td>36</td>\n",
       "      <td>150</td>\n",
       "    </tr>\n",
       "    <tr>\n",
       "      <th>71</th>\n",
       "      <td>72</td>\n",
       "      <td>Student_72</td>\n",
       "      <td>3</td>\n",
       "      <td>63</td>\n",
       "      <td>80</td>\n",
       "      <td>8</td>\n",
       "      <td>154</td>\n",
       "    </tr>\n",
       "    <tr>\n",
       "      <th>72</th>\n",
       "      <td>73</td>\n",
       "      <td>Student_73</td>\n",
       "      <td>1</td>\n",
       "      <td>4</td>\n",
       "      <td>58</td>\n",
       "      <td>98</td>\n",
       "      <td>161</td>\n",
       "    </tr>\n",
       "    <tr>\n",
       "      <th>73</th>\n",
       "      <td>74</td>\n",
       "      <td>Student_74</td>\n",
       "      <td>5</td>\n",
       "      <td>89</td>\n",
       "      <td>1</td>\n",
       "      <td>18</td>\n",
       "      <td>113</td>\n",
       "    </tr>\n",
       "    <tr>\n",
       "      <th>74</th>\n",
       "      <td>75</td>\n",
       "      <td>Student_75</td>\n",
       "      <td>53</td>\n",
       "      <td>13</td>\n",
       "      <td>1</td>\n",
       "      <td>47</td>\n",
       "      <td>114</td>\n",
       "    </tr>\n",
       "  </tbody>\n",
       "</table>\n",
       "<p>67 rows × 7 columns</p>\n",
       "</div>"
      ],
      "text/plain": [
       "    Student_ID        Name  DS_Score  AI_Score  CC_Score  CS_Score  Total\n",
       "0            1   Student_1        51         3        26        91    171\n",
       "1            2   Student_2        63        53         8        53    177\n",
       "2            3   Student_3        14        63        78        86    241\n",
       "3            4   Student_4        71        62        14        95    242\n",
       "4            5   Student_5        60        17        89        96    262\n",
       "..         ...         ...       ...       ...       ...       ...    ...\n",
       "69          70  Student_70        35        77         2        36    150\n",
       "71          72  Student_72         3        63        80         8    154\n",
       "72          73  Student_73         1         4        58        98    161\n",
       "73          74  Student_74         5        89         1        18    113\n",
       "74          75  Student_75        53        13         1        47    114\n",
       "\n",
       "[67 rows x 7 columns]"
      ]
     },
     "execution_count": 23,
     "metadata": {},
     "output_type": "execute_result"
    }
   ],
   "source": [
    "df"
   ]
  },
  {
   "cell_type": "code",
   "execution_count": 24,
   "id": "441eafd3",
   "metadata": {},
   "outputs": [],
   "source": [
    "#Converting the 'Total' column to a SGPA column to change the scale\n",
    "df['SGPA'] = (df['Total'] / total_marks) * 10\n",
    "df['SGPA'] = df['SGPA'].round(1)"
   ]
  },
  {
   "cell_type": "code",
   "execution_count": 25,
   "id": "08a84a67",
   "metadata": {},
   "outputs": [
    {
     "data": {
      "text/html": [
       "<div>\n",
       "<style scoped>\n",
       "    .dataframe tbody tr th:only-of-type {\n",
       "        vertical-align: middle;\n",
       "    }\n",
       "\n",
       "    .dataframe tbody tr th {\n",
       "        vertical-align: top;\n",
       "    }\n",
       "\n",
       "    .dataframe thead th {\n",
       "        text-align: right;\n",
       "    }\n",
       "</style>\n",
       "<table border=\"1\" class=\"dataframe\">\n",
       "  <thead>\n",
       "    <tr style=\"text-align: right;\">\n",
       "      <th></th>\n",
       "      <th>Student_ID</th>\n",
       "      <th>Name</th>\n",
       "      <th>DS_Score</th>\n",
       "      <th>AI_Score</th>\n",
       "      <th>CC_Score</th>\n",
       "      <th>CS_Score</th>\n",
       "      <th>Total</th>\n",
       "      <th>SGPA</th>\n",
       "    </tr>\n",
       "  </thead>\n",
       "  <tbody>\n",
       "    <tr>\n",
       "      <th>0</th>\n",
       "      <td>1</td>\n",
       "      <td>Student_1</td>\n",
       "      <td>51</td>\n",
       "      <td>3</td>\n",
       "      <td>26</td>\n",
       "      <td>91</td>\n",
       "      <td>171</td>\n",
       "      <td>4.3</td>\n",
       "    </tr>\n",
       "    <tr>\n",
       "      <th>1</th>\n",
       "      <td>2</td>\n",
       "      <td>Student_2</td>\n",
       "      <td>63</td>\n",
       "      <td>53</td>\n",
       "      <td>8</td>\n",
       "      <td>53</td>\n",
       "      <td>177</td>\n",
       "      <td>4.4</td>\n",
       "    </tr>\n",
       "    <tr>\n",
       "      <th>2</th>\n",
       "      <td>3</td>\n",
       "      <td>Student_3</td>\n",
       "      <td>14</td>\n",
       "      <td>63</td>\n",
       "      <td>78</td>\n",
       "      <td>86</td>\n",
       "      <td>241</td>\n",
       "      <td>6.0</td>\n",
       "    </tr>\n",
       "    <tr>\n",
       "      <th>3</th>\n",
       "      <td>4</td>\n",
       "      <td>Student_4</td>\n",
       "      <td>71</td>\n",
       "      <td>62</td>\n",
       "      <td>14</td>\n",
       "      <td>95</td>\n",
       "      <td>242</td>\n",
       "      <td>6.0</td>\n",
       "    </tr>\n",
       "    <tr>\n",
       "      <th>4</th>\n",
       "      <td>5</td>\n",
       "      <td>Student_5</td>\n",
       "      <td>60</td>\n",
       "      <td>17</td>\n",
       "      <td>89</td>\n",
       "      <td>96</td>\n",
       "      <td>262</td>\n",
       "      <td>6.6</td>\n",
       "    </tr>\n",
       "    <tr>\n",
       "      <th>...</th>\n",
       "      <td>...</td>\n",
       "      <td>...</td>\n",
       "      <td>...</td>\n",
       "      <td>...</td>\n",
       "      <td>...</td>\n",
       "      <td>...</td>\n",
       "      <td>...</td>\n",
       "      <td>...</td>\n",
       "    </tr>\n",
       "    <tr>\n",
       "      <th>69</th>\n",
       "      <td>70</td>\n",
       "      <td>Student_70</td>\n",
       "      <td>35</td>\n",
       "      <td>77</td>\n",
       "      <td>2</td>\n",
       "      <td>36</td>\n",
       "      <td>150</td>\n",
       "      <td>3.8</td>\n",
       "    </tr>\n",
       "    <tr>\n",
       "      <th>71</th>\n",
       "      <td>72</td>\n",
       "      <td>Student_72</td>\n",
       "      <td>3</td>\n",
       "      <td>63</td>\n",
       "      <td>80</td>\n",
       "      <td>8</td>\n",
       "      <td>154</td>\n",
       "      <td>3.8</td>\n",
       "    </tr>\n",
       "    <tr>\n",
       "      <th>72</th>\n",
       "      <td>73</td>\n",
       "      <td>Student_73</td>\n",
       "      <td>1</td>\n",
       "      <td>4</td>\n",
       "      <td>58</td>\n",
       "      <td>98</td>\n",
       "      <td>161</td>\n",
       "      <td>4.0</td>\n",
       "    </tr>\n",
       "    <tr>\n",
       "      <th>73</th>\n",
       "      <td>74</td>\n",
       "      <td>Student_74</td>\n",
       "      <td>5</td>\n",
       "      <td>89</td>\n",
       "      <td>1</td>\n",
       "      <td>18</td>\n",
       "      <td>113</td>\n",
       "      <td>2.8</td>\n",
       "    </tr>\n",
       "    <tr>\n",
       "      <th>74</th>\n",
       "      <td>75</td>\n",
       "      <td>Student_75</td>\n",
       "      <td>53</td>\n",
       "      <td>13</td>\n",
       "      <td>1</td>\n",
       "      <td>47</td>\n",
       "      <td>114</td>\n",
       "      <td>2.8</td>\n",
       "    </tr>\n",
       "  </tbody>\n",
       "</table>\n",
       "<p>67 rows × 8 columns</p>\n",
       "</div>"
      ],
      "text/plain": [
       "    Student_ID        Name  DS_Score  AI_Score  CC_Score  CS_Score  Total  \\\n",
       "0            1   Student_1        51         3        26        91    171   \n",
       "1            2   Student_2        63        53         8        53    177   \n",
       "2            3   Student_3        14        63        78        86    241   \n",
       "3            4   Student_4        71        62        14        95    242   \n",
       "4            5   Student_5        60        17        89        96    262   \n",
       "..         ...         ...       ...       ...       ...       ...    ...   \n",
       "69          70  Student_70        35        77         2        36    150   \n",
       "71          72  Student_72         3        63        80         8    154   \n",
       "72          73  Student_73         1         4        58        98    161   \n",
       "73          74  Student_74         5        89         1        18    113   \n",
       "74          75  Student_75        53        13         1        47    114   \n",
       "\n",
       "    SGPA  \n",
       "0    4.3  \n",
       "1    4.4  \n",
       "2    6.0  \n",
       "3    6.0  \n",
       "4    6.6  \n",
       "..   ...  \n",
       "69   3.8  \n",
       "71   3.8  \n",
       "72   4.0  \n",
       "73   2.8  \n",
       "74   2.8  \n",
       "\n",
       "[67 rows x 8 columns]"
      ]
     },
     "execution_count": 25,
     "metadata": {},
     "output_type": "execute_result"
    }
   ],
   "source": [
    "df"
   ]
  },
  {
   "cell_type": "markdown",
   "id": "991f9171",
   "metadata": {},
   "source": [
    "### Data Normalization and Skewness"
   ]
  },
  {
   "cell_type": "code",
   "execution_count": 26,
   "id": "5f23731f",
   "metadata": {},
   "outputs": [
    {
     "name": "stdout",
     "output_type": "stream",
     "text": [
      "Skewness Before Transformation =  -0.16316809394169834\n",
      "Skewness After Transformation =  -0.07582507406787861\n"
     ]
    }
   ],
   "source": [
    "#Checking skewness of Original variable and Transformed variable\n",
    "from scipy import stats\n",
    "\n",
    "total_data = df['Total']\n",
    "\n",
    "skewness_before = stats.skew(total_data)\n",
    "print(\"Skewness Before Transformation = \",skewness_before)\n",
    "\n",
    "transformed_data,lamda_value = stats.boxcox(total_data)\n",
    "skewness_after = stats.skew(transformed_data)\n",
    "print(\"Skewness After Transformation = \",skewness_after)"
   ]
  },
  {
   "cell_type": "code",
   "execution_count": 27,
   "id": "8575094c",
   "metadata": {},
   "outputs": [
    {
     "data": {
      "text/plain": [
       "Text(0.5, 1.0, 'Transformed Distribution (Skewness: -0.08)')"
      ]
     },
     "execution_count": 27,
     "metadata": {},
     "output_type": "execute_result"
    },
    {
     "data": {
      "image/png": "[encoded data removed]",
      "text/plain": [
       "<Figure size 2000x600 with 2 Axes>"
      ]
     },
     "metadata": {},
     "output_type": "display_data"
    }
   ],
   "source": [
    "#Plotting the Skewness\n",
    "plt.figure(figsize=(20, 6))\n",
    "plt.subplot(1, 2, 1)\n",
    "sns.histplot(total_data, kde=True , color= 'red')\n",
    "plt.title(f'Skewed Distribution (Skewness: {skewness_before:.2f})')\n",
    "\n",
    "\n",
    "plt.subplot(1, 2, 2)\n",
    "sns.histplot(transformed_data, kde=True, color= 'green')\n",
    "plt.title(f'Transformed Distribution (Skewness: {skewness_after:.2f})')"
   ]
  },
  {
   "cell_type": "code",
   "execution_count": null,
   "id": "0aa6b2a0",
   "metadata": {},
   "outputs": [],
   "source": []
  }
 ],
 "metadata": {
  "kernelspec": {
   "display_name": "Python 3 (ipykernel)",
   "language": "python",
   "name": "python3"
  },
  "language_info": {
   "codemirror_mode": {
    "name": "ipython",
    "version": 3
   },
   "file_extension": ".py",
   "mimetype": "text/x-python",
   "name": "python",
   "nbconvert_exporter": "python",
   "pygments_lexer": "ipython3",
   "version": "3.11.7"
  }
 },
 "nbformat": 4,
 "nbformat_minor": 5
}
